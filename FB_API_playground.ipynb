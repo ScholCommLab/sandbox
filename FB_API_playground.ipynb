{
 "cells": [
  {
   "cell_type": "code",
   "execution_count": null,
   "metadata": {},
   "outputs": [],
   "source": [
    "# gist from: https://gist.github.com/jkuruzovich/b8485a368f80a3b88df46326cf54bbce\n",
    "\n",
    "# Facebook Graph API Example in Python\n",
    "# by James Thornton, http://jamesthornton.com\n",
    "\n",
    "# Facebook API Docs\n",
    "# https://developers.facebook.com/docs/graph-api/using-graph-api#reading\n",
    "\n",
    "# Get Your Facebook Access Token Here...\n",
    "# https://developers.facebook.com/tools/explorer/145634995501895/?method=GET&path=me\n",
    "\n",
    "# Before running this script...\n",
    "# Set your Facebook Access Token as an environment variable in your terminal:\n",
    "# $ export ACCESS_TOKEN={YOUR ACCESS TOKEN}\n",
    "\n",
    "# To download this script, use the curl command...\n",
    "# $ curl -O https://gist.githubusercontent.com/espeed/11114604/raw/a233d14604ea44f9d29af02cd2768b91caaad7af/fbme.py\n",
    "\n",
    "# To run this script, use the python command to execute the script in your terminal...\n",
    "# $ python fbme.py\n",
    "\n",
    "import os\n",
    "import json\n",
    "import requests\n",
    "import urllib\n",
    "import pprint\n",
    "import subprocess\n",
    "import ast\n",
    "from time import sleep\n",
    "\n",
    "import configparser\n",
    "Config = configparser.ConfigParser()\n",
    "Config.read('config.cnf')\n",
    "\n",
    "import facebook"
   ]
  },
  {
   "cell_type": "markdown",
   "metadata": {},
   "source": [
    "To generate app access token head over to https://developers.facebook.com and create a new app. Enter the APP_ID and APP_SECRET in your `config.cnf`"
   ]
  },
  {
   "cell_type": "code",
   "execution_count": null,
   "metadata": {},
   "outputs": [],
   "source": [
    "# Programmatic User Access Token for App\n",
    "FACEBOOK_APP_ID = Config.get('facebook', 'app_id')\n",
    "FACEBOOK_APP_SECRET = Config.get('facebook', 'app_secret')\n",
    "\n",
    "# Retrieve App Access Token\n",
    "def get_fb_token(app_id, app_secret):           \n",
    "    payload = {'grant_type': 'client_credentials', 'client_id': app_id, 'client_secret': app_secret}\n",
    "    try:\n",
    "        r = requests.post('https://graph.facebook.com/oauth/access_token?', params = payload)\n",
    "    except requests.exceptions.RequestException as e:  # This is the correct syntax\n",
    "        print(e)\n",
    "        return\n",
    "    \n",
    "    r = ast.literal_eval(r.text)['access_token']\n",
    "    \n",
    "    print(\"Generated access token: \" + r)\n",
    "    return r"
   ]
  },
  {
   "cell_type": "code",
   "execution_count": null,
   "metadata": {},
   "outputs": [],
   "source": [
    "ACCESS_TOKEN = get_fb_token(FACEBOOK_APP_ID, FACEBOOK_APP_SECRET)"
   ]
  },
  {
   "cell_type": "code",
   "execution_count": null,
   "metadata": {},
   "outputs": [],
   "source": [
    "graph = facebook.GraphAPI(ACCESS_TOKEN)"
   ]
  },
  {
   "cell_type": "code",
   "execution_count": null,
   "metadata": {},
   "outputs": [],
   "source": [
    "# DOI -> FB engagement\n",
    "def get_facebook(doi):\n",
    "    query_url = 'http://dx.doi.org/%s' % doi\n",
    "    url = 'v2.10/?' + urllib.parse.urlencode({'id': query_url, 'fields': 'engagement'})\n",
    "    try: \n",
    "        response = graph.request(url)\n",
    "        return response['engagement']\n",
    "    except: \n",
    "        return False \n",
    "    \n",
    "# DOI -> altmetric.com\n",
    "def get_altmetric(doi):\n",
    "    global counter\n",
    "    url = 'http://api.altmetric.com/v1/fetch/doi/%s' % doi\n",
    "    params = {'key': Config.get('altmetric', 'key')}\n",
    "\n",
    "    try: \n",
    "        response = requests.get(url, params=params)\n",
    "        if response.status_code == 200:\n",
    "            return response.json()['counts']['facebook']\n",
    "        else:\n",
    "            return False\n",
    "    except: \n",
    "        return False "
   ]
  },
  {
   "cell_type": "code",
   "execution_count": null,
   "metadata": {},
   "outputs": [],
   "source": [
    "print(get_facebook('10.1590/S1413-92511998000200004'))\n",
    "print(get_altmetric('10.1590/S1413-92511998000200004'))"
   ]
  },
  {
   "cell_type": "code",
   "execution_count": null,
   "metadata": {},
   "outputs": [],
   "source": [
    "query_url = 'http://www.tandfonline.com/eprint/QK4zmjpieTnYdMD72ntV/full'\n",
    "url = 'v2.10/?' + urllib.parse.urlencode({'id': query_url, 'fields': 'engagement'})\n",
    "graph.request(url)"
   ]
  },
  {
   "cell_type": "code",
   "execution_count": null,
   "metadata": {},
   "outputs": [],
   "source": [
    "# a URL that does not resolve nicely because of internal link resolver\n",
    "doi = '10.1016/j.plefa.2017.04.005'\n",
    "r = requests.head('http://dx.doi.org/%s' % doi, allow_redirects=True)\n",
    "print(r.url)\n",
    "\n",
    "print(get_facebook(doi))"
   ]
  }
 ],
 "metadata": {
  "kernelspec": {
   "display_name": "altmetrics",
   "language": "python",
   "name": "altmetrics"
  },
  "language_info": {
   "codemirror_mode": {
    "name": "ipython",
    "version": 3
   },
   "file_extension": ".py",
   "mimetype": "text/x-python",
   "name": "python",
   "nbconvert_exporter": "python",
   "pygments_lexer": "ipython3",
   "version": "3.5.2"
  }
 },
 "nbformat": 4,
 "nbformat_minor": 2
}
